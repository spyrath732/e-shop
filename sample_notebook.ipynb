{
 "cells": [
  {
   "cell_type": "markdown",
   "id": "1b9b9639",
   "metadata": {},
   "source": [
    "# Imports"
   ]
  },
  {
   "cell_type": "code",
   "execution_count": 1,
   "id": "45308dd1",
   "metadata": {},
   "outputs": [],
   "source": [
    "from pyspark.sql import SparkSession\n",
    "from pyspark.sql.window import Window\n",
    "from pyspark.sql import functions as F\n",
    "import warnings\n",
    "warnings.simplefilter('ignore')"
   ]
  },
  {
   "cell_type": "markdown",
   "id": "a6ea7ed3",
   "metadata": {},
   "source": [
    "# Spark Session Init"
   ]
  },
  {
   "cell_type": "code",
   "execution_count": 2,
   "id": "946e0d12",
   "metadata": {},
   "outputs": [
    {
     "name": "stderr",
     "output_type": "stream",
     "text": [
      "23/12/14 11:29:44 WARN NativeCodeLoader: Unable to load native-hadoop library for your platform... using builtin-java classes where applicable\n",
      "Using Spark's default log4j profile: org/apache/spark/log4j-defaults.properties\n",
      "Setting default log level to \"WARN\".\n",
      "To adjust logging level use sc.setLogLevel(newLevel). For SparkR, use setLogLevel(newLevel).\n"
     ]
    }
   ],
   "source": [
    "spark = SparkSession.\\\n",
    "        builder.\\\n",
    "        appName(\"pyspark-notebook\").\\\n",
    "        master(\"spark://spark-master:7077\").\\\n",
    "        config(\"spark.executor.memory\", \"512m\").\\\n",
    "        getOrCreate()"
   ]
  },
  {
   "cell_type": "markdown",
   "id": "72030511",
   "metadata": {},
   "source": [
    "# Data Ingestion"
   ]
  },
  {
   "cell_type": "code",
   "execution_count": 4,
   "id": "fa702f22",
   "metadata": {},
   "outputs": [
    {
     "name": "stdout",
     "output_type": "stream",
     "text": [
      "+-------+----------+----------+------+\n",
      "|   user|session_id| timestamp|  page|\n",
      "+-------+----------+----------+------+\n",
      "|U770487|   S126225|1665870305| Page4|\n",
      "|U770487|   S126225|1665870538| Page3|\n",
      "|U770487|   S126225|1665870647| Page9|\n",
      "|U770487|   S126225|1665870741|Page10|\n",
      "|U770487|   S126225|1665871178| Page1|\n",
      "+-------+----------+----------+------+\n",
      "only showing top 5 rows\n",
      "\n"
     ]
    }
   ],
   "source": [
    "path = \"dataset1.csv\"\n",
    "pages_df = spark.read.option(\"header\",True).csv(path)\n",
    "pages_df.show(5)"
   ]
  },
  {
   "cell_type": "code",
   "execution_count": 5,
   "id": "680e44ef",
   "metadata": {},
   "outputs": [
    {
     "name": "stdout",
     "output_type": "stream",
     "text": [
      "+-------+----------+----------+-----------+\n",
      "|   user|session_id| timestamp|transaction|\n",
      "+-------+----------+----------+-----------+\n",
      "|U770487|   S126225|1665871214|          A|\n",
      "|U770487|   S198246|1648324960|          B|\n",
      "|U770487|   S717889|1650322553|          A|\n",
      "|U770487|   S456778|1650312309|          B|\n",
      "|U770487|   S476417|1669426490|          A|\n",
      "+-------+----------+----------+-----------+\n",
      "only showing top 5 rows\n",
      "\n"
     ]
    }
   ],
   "source": [
    "path = \"dataset2.csv\"\n",
    "trans_df = spark.read.option(\"header\",True).csv(path)\n",
    "trans_df.show(5)"
   ]
  },
  {
   "cell_type": "markdown",
   "id": "79341a40",
   "metadata": {},
   "source": [
    "## Initial checks for count of rows and nulls"
   ]
  },
  {
   "cell_type": "code",
   "execution_count": 7,
   "id": "8389d490",
   "metadata": {},
   "outputs": [
    {
     "data": {
      "text/plain": [
       "50000"
      ]
     },
     "execution_count": 7,
     "metadata": {},
     "output_type": "execute_result"
    }
   ],
   "source": [
    "pages_df.count()"
   ]
  },
  {
   "cell_type": "code",
   "execution_count": 8,
   "id": "12731b0a",
   "metadata": {},
   "outputs": [
    {
     "name": "stderr",
     "output_type": "stream",
     "text": [
      "[Stage 8:>                                                          (0 + 1) / 1]\r"
     ]
    },
    {
     "name": "stdout",
     "output_type": "stream",
     "text": [
      "+----+----------+---------+----+\n",
      "|user|session_id|timestamp|page|\n",
      "+----+----------+---------+----+\n",
      "|   0|         0|        0|   0|\n",
      "+----+----------+---------+----+\n",
      "\n"
     ]
    },
    {
     "name": "stderr",
     "output_type": "stream",
     "text": [
      "                                                                                \r"
     ]
    }
   ],
   "source": [
    "pages_df.select([F.count(F.when(F.isnan(c), c)).alias(c) for c in pages_df.columns]).show()"
   ]
  },
  {
   "cell_type": "code",
   "execution_count": 9,
   "id": "13a658fc",
   "metadata": {},
   "outputs": [
    {
     "data": {
      "text/plain": [
       "8997"
      ]
     },
     "execution_count": 9,
     "metadata": {},
     "output_type": "execute_result"
    }
   ],
   "source": [
    "trans_df.count()"
   ]
  },
  {
   "cell_type": "code",
   "execution_count": 10,
   "id": "93e89324",
   "metadata": {},
   "outputs": [
    {
     "name": "stdout",
     "output_type": "stream",
     "text": [
      "+----+----------+---------+-----------+\n",
      "|user|session_id|timestamp|transaction|\n",
      "+----+----------+---------+-----------+\n",
      "|   0|         0|        0|          0|\n",
      "+----+----------+---------+-----------+\n",
      "\n"
     ]
    }
   ],
   "source": [
    "trans_df.select([F.count(F.when(F.isnan(c), c)).alias(c) for c in trans_df.columns]).show()"
   ]
  },
  {
   "cell_type": "markdown",
   "id": "bb92aa56",
   "metadata": {},
   "source": [
    "# Which are the most popular pages of the e-shop?\n"
   ]
  },
  {
   "cell_type": "code",
   "execution_count": 32,
   "id": "7a7129d2",
   "metadata": {},
   "outputs": [
    {
     "name": "stdout",
     "output_type": "stream",
     "text": [
      "+------+--------+\n",
      "|  page|max_hits|\n",
      "+------+--------+\n",
      "| Page8|    5071|\n",
      "| Page2|    5050|\n",
      "| Page7|    5045|\n",
      "| Page5|    5021|\n",
      "| Page4|    5001|\n",
      "| Page6|    4995|\n",
      "| Page3|    4991|\n",
      "| Page1|    4981|\n",
      "|Page10|    4961|\n",
      "| Page9|    4884|\n",
      "+------+--------+\n",
      "\n"
     ]
    },
    {
     "name": "stderr",
     "output_type": "stream",
     "text": [
      "                                                                                \r"
     ]
    }
   ],
   "source": [
    "popular_df = pages_df.groupBy(['page']) \\\n",
    "  .agg(F.count(\"*\").alias(\"max_hits\")) \\\n",
    "  .sort(F.desc(\"max_hits\"))\n",
    "popular_df.show()"
   ]
  },
  {
   "cell_type": "markdown",
   "id": "a085a9b9",
   "metadata": {},
   "source": [
    "# How many users visit these pages?"
   ]
  },
  {
   "cell_type": "code",
   "execution_count": 34,
   "id": "efda040a",
   "metadata": {},
   "outputs": [
    {
     "name": "stderr",
     "output_type": "stream",
     "text": [
      "[Stage 47:=====================================================>(198 + 1) / 200]\r"
     ]
    },
    {
     "name": "stdout",
     "output_type": "stream",
     "text": [
      "+------+-----+\n",
      "|  page|users|\n",
      "+------+-----+\n",
      "|Page10|  569|\n",
      "| Page2|  566|\n",
      "| Page7|  566|\n",
      "| Page9|  564|\n",
      "| Page6|  562|\n",
      "| Page5|  561|\n",
      "| Page4|  561|\n",
      "| Page3|  560|\n",
      "| Page8|  560|\n",
      "| Page1|  555|\n",
      "+------+-----+\n",
      "\n"
     ]
    },
    {
     "name": "stderr",
     "output_type": "stream",
     "text": [
      "                                                                                \r"
     ]
    }
   ],
   "source": [
    "users_df = pages_df.groupBy(['page']) \\\n",
    "  .agg(F.countDistinct(\"user\").alias(\"users\")) \\\n",
    "  .sort(F.desc(\"users\"))\n",
    "users_df.show()"
   ]
  },
  {
   "cell_type": "markdown",
   "id": "2ecc1d4d",
   "metadata": {},
   "source": [
    "# How many transactions are performed on each page?"
   ]
  },
  {
   "cell_type": "markdown",
   "id": "edc5d012",
   "metadata": {},
   "source": [
    "At this step ww need to left join pages dataset with transactions on user and session id and bring transaction times"
   ]
  },
  {
   "cell_type": "code",
   "execution_count": 58,
   "id": "c76851ca",
   "metadata": {},
   "outputs": [
    {
     "name": "stdout",
     "output_type": "stream",
     "text": [
      "+-------+----------+----------+------+-----------+----------+\n",
      "|   user|session_id| timestamp|  page|transaction|trans_time|\n",
      "+-------+----------+----------+------+-----------+----------+\n",
      "|U770487|   S126225|1665870305| Page4|          A|1665871214|\n",
      "|U770487|   S126225|1665870538| Page3|          A|1665871214|\n",
      "|U770487|   S126225|1665870647| Page9|          A|1665871214|\n",
      "|U770487|   S126225|1665870741|Page10|          A|1665871214|\n",
      "|U770487|   S126225|1665871178| Page1|          A|1665871214|\n",
      "|U770487|   S198246|1648324273| Page9|          B|1648324960|\n",
      "|U770487|   S198246|1648324305| Page9|          B|1648324960|\n",
      "|U770487|   S198246|1648324513| Page9|          B|1648324960|\n",
      "|U770487|   S198246|1648324947| Page4|          B|1648324960|\n",
      "|U770487|   S717889|1650322531| Page3|          A|1650322553|\n",
      "|U770487|   S456778|1650311815| Page4|          B|1650312309|\n",
      "|U770487|   S456778|1650312164| Page2|          B|1650312309|\n",
      "|U770487|   S456778|1650312263| Page7|          B|1650312309|\n",
      "|U770487|   S476417|1669425192|Page10|          A|1669426490|\n",
      "|U770487|   S476417|1669425467| Page1|          A|1669426490|\n",
      "|U770487|   S476417|1669425942| Page9|          A|1669426490|\n",
      "|U770487|   S476417|1669426074| Page7|          A|1669426490|\n",
      "|U770487|   S476417|1669426159| Page9|          A|1669426490|\n",
      "|U770487|   S476417|1669426464|Page10|          A|1669426490|\n",
      "|U705397|   S838797|1643321883| Page4|          A|1643321917|\n",
      "+-------+----------+----------+------+-----------+----------+\n",
      "only showing top 20 rows\n",
      "\n"
     ]
    }
   ],
   "source": [
    "joined_df = pages_df.join(trans_df,['user','session_id'],'left').select(pages_df['*'],trans_df['transaction'],trans_df['timestamp'].alias('trans_time'))\n",
    "joined_df.show()"
   ]
  },
  {
   "cell_type": "markdown",
   "id": "03a555bb",
   "metadata": {},
   "source": [
    "Checking rows with no transactions"
   ]
  },
  {
   "cell_type": "code",
   "execution_count": 59,
   "id": "3bcbac65",
   "metadata": {},
   "outputs": [
    {
     "data": {
      "text/plain": [
       "262"
      ]
     },
     "execution_count": 59,
     "metadata": {},
     "output_type": "execute_result"
    }
   ],
   "source": [
    "joined_df.filter(F.col('transaction').isNull()).count()"
   ]
  },
  {
   "cell_type": "code",
   "execution_count": 61,
   "id": "7165762c",
   "metadata": {},
   "outputs": [
    {
     "name": "stdout",
     "output_type": "stream",
     "text": [
      "+------+------------+\n",
      "|  page|transactions|\n",
      "+------+------------+\n",
      "| Page8|        5039|\n",
      "| Page2|        5033|\n",
      "| Page7|        5023|\n",
      "| Page5|        4998|\n",
      "| Page4|        4975|\n",
      "| Page6|        4968|\n",
      "| Page3|        4967|\n",
      "| Page1|        4956|\n",
      "|Page10|        4930|\n",
      "| Page9|        4849|\n",
      "+------+------------+\n",
      "\n"
     ]
    },
    {
     "name": "stderr",
     "output_type": "stream",
     "text": [
      "                                                                                \r"
     ]
    }
   ],
   "source": [
    "transactions_count_df = joined_df.groupBy(['page']) \\\n",
    "  .agg(F.count(\"transaction\").alias(\"transactions\")) \\\n",
    "  .sort(F.desc(\"transactions\"))\n",
    "transactions_count_df.show()"
   ]
  },
  {
   "cell_type": "markdown",
   "id": "0bd0cd6c",
   "metadata": {},
   "source": [
    "# What is the average time to purchase for a user?"
   ]
  },
  {
   "cell_type": "code",
   "execution_count": 67,
   "id": "57705762",
   "metadata": {},
   "outputs": [
    {
     "name": "stdout",
     "output_type": "stream",
     "text": [
      "root\n",
      " |-- user: string (nullable = true)\n",
      " |-- session_id: string (nullable = true)\n",
      " |-- timestamp: string (nullable = true)\n",
      " |-- page: string (nullable = true)\n",
      " |-- transaction: string (nullable = true)\n",
      " |-- trans_time: string (nullable = true)\n",
      " |-- purchase_time: double (nullable = true)\n",
      "\n"
     ]
    }
   ],
   "source": [
    "joined_df.printSchema()"
   ]
  },
  {
   "cell_type": "markdown",
   "id": "003e1457",
   "metadata": {},
   "source": [
    "We create a  new column to calculate purchase time , by substracting timestamp from trans_time for given combo of user,session and page"
   ]
  },
  {
   "cell_type": "code",
   "execution_count": 71,
   "id": "4e0251f2",
   "metadata": {},
   "outputs": [
    {
     "name": "stdout",
     "output_type": "stream",
     "text": [
      "+-------+----------+----------+------+-----------+----------+-------------+\n",
      "|   user|session_id| timestamp|  page|transaction|trans_time|purchase_time|\n",
      "+-------+----------+----------+------+-----------+----------+-------------+\n",
      "|U770487|   S126225|1665870305| Page4|          A|1665871214|        909.0|\n",
      "|U770487|   S126225|1665870538| Page3|          A|1665871214|        676.0|\n",
      "|U770487|   S126225|1665870647| Page9|          A|1665871214|        567.0|\n",
      "|U770487|   S126225|1665870741|Page10|          A|1665871214|        473.0|\n",
      "|U770487|   S126225|1665871178| Page1|          A|1665871214|         36.0|\n",
      "|U770487|   S198246|1648324273| Page9|          B|1648324960|        687.0|\n",
      "|U770487|   S198246|1648324305| Page9|          B|1648324960|        655.0|\n",
      "|U770487|   S198246|1648324513| Page9|          B|1648324960|        447.0|\n",
      "|U770487|   S198246|1648324947| Page4|          B|1648324960|         13.0|\n",
      "|U770487|   S717889|1650322531| Page3|          A|1650322553|         22.0|\n",
      "|U770487|   S456778|1650311815| Page4|          B|1650312309|        494.0|\n",
      "|U770487|   S456778|1650312164| Page2|          B|1650312309|        145.0|\n",
      "|U770487|   S456778|1650312263| Page7|          B|1650312309|         46.0|\n",
      "|U770487|   S476417|1669425192|Page10|          A|1669426490|       1298.0|\n",
      "|U770487|   S476417|1669425467| Page1|          A|1669426490|       1023.0|\n",
      "|U770487|   S476417|1669425942| Page9|          A|1669426490|        548.0|\n",
      "|U770487|   S476417|1669426074| Page7|          A|1669426490|        416.0|\n",
      "|U770487|   S476417|1669426159| Page9|          A|1669426490|        331.0|\n",
      "|U770487|   S476417|1669426464|Page10|          A|1669426490|         26.0|\n",
      "|U705397|   S838797|1643321883| Page4|          A|1643321917|         34.0|\n",
      "+-------+----------+----------+------+-----------+----------+-------------+\n",
      "only showing top 20 rows\n",
      "\n"
     ]
    }
   ],
   "source": [
    "joined_df = joined_df.withColumn('purchase_time',(F.col('trans_time') -F.col('timestamp')))\n",
    "joined_df.show()"
   ]
  },
  {
   "cell_type": "markdown",
   "id": "c3e08737",
   "metadata": {},
   "source": [
    "At first level of calculation, we group by 'user','session_id','page' and calculatepurchase_time"
   ]
  },
  {
   "cell_type": "code",
   "execution_count": 79,
   "id": "beb70f84",
   "metadata": {},
   "outputs": [
    {
     "name": "stdout",
     "output_type": "stream",
     "text": [
      "+-------+----------+------+---------------------------+\n",
      "|   user|session_id|  page|average_combo_purchase_time|\n",
      "+-------+----------+------+---------------------------+\n",
      "|U521947|   S882169| Page2|                      376.0|\n",
      "|U787584|   S348235|Page10|                      949.0|\n",
      "|U197966|   S393308| Page1|                      210.5|\n",
      "|U722651|   S219490|Page10|         1213.6666666666667|\n",
      "|U493396|   S356355| Page5|                      780.0|\n",
      "|U642347|   S904092| Page4|                      831.0|\n",
      "|U876936|   S297509| Page6|                     1995.0|\n",
      "|U578073|   S954551| Page2|                      928.0|\n",
      "|U507777|   S663123| Page6|                      277.0|\n",
      "|U725510|   S622998| Page3|                       21.0|\n",
      "|U657487|   S322167| Page3|                      317.0|\n",
      "|U155663|   S419739| Page7|                      922.0|\n",
      "|U169268|   S587521| Page9|                      119.0|\n",
      "|U169268|   S761297| Page9|                      652.0|\n",
      "|U820420|   S386643|Page10|                      555.0|\n",
      "|U615346|   S955932| Page8|                      589.0|\n",
      "|U451965|   S760035|Page10|                      703.0|\n",
      "|U794791|   S880788| Page4|                     1143.0|\n",
      "|U478083|   S502810| Page7|                     1393.0|\n",
      "|U927912|   S421876| Page8|                      496.0|\n",
      "+-------+----------+------+---------------------------+\n",
      "only showing top 20 rows\n",
      "\n"
     ]
    }
   ],
   "source": [
    "combo_average_df = joined_df.groupBy(['user','session_id','page']).agg(F.avg('purchase_time').alias(\"average_combo_purchase_time\"))\n",
    "combo_average_df.show()"
   ]
  },
  {
   "cell_type": "markdown",
   "id": "7a0015b4",
   "metadata": {},
   "source": [
    "At second level , we group only by user the previous purchase_time to bring the desired results"
   ]
  },
  {
   "cell_type": "code",
   "execution_count": 81,
   "id": "5db4d44d",
   "metadata": {},
   "outputs": [
    {
     "name": "stderr",
     "output_type": "stream",
     "text": [
      "[Stage 164:=================================================>   (185 + 1) / 200]\r"
     ]
    },
    {
     "name": "stdout",
     "output_type": "stream",
     "text": [
      "+-------+---------------------+\n",
      "|   user|average_purchase_time|\n",
      "+-------+---------------------+\n",
      "|U100126|   1375.0208333333335|\n",
      "|U101223|    748.3083333333333|\n",
      "|U102215|    763.8333333333334|\n",
      "|U102528|    804.8846153846154|\n",
      "|U102561|    887.3663194444445|\n",
      "|U104917|   1223.4516129032259|\n",
      "|U107804|     924.452380952381|\n",
      "|U108680|    838.0573770491803|\n",
      "|U111288|    906.3151515151516|\n",
      "|U112017|    942.3488372093024|\n",
      "|U113847|    871.3261904761906|\n",
      "|U114317|    810.4204545454545|\n",
      "|U114356|    820.5915492957746|\n",
      "|U114895|    949.6336477987422|\n",
      "|U120390|    951.3958333333333|\n",
      "|U121567|           821.140625|\n",
      "|U122786|  -1126934.2703252032|\n",
      "|U127437|    989.3194444444443|\n",
      "|U129169|    997.5764367816091|\n",
      "|U130581|    834.7551440329219|\n",
      "+-------+---------------------+\n",
      "only showing top 20 rows\n",
      "\n"
     ]
    },
    {
     "name": "stderr",
     "output_type": "stream",
     "text": [
      "                                                                                \r"
     ]
    }
   ],
   "source": [
    "user_avg_purc_time_df = combo_average_df.groupBy(['user']).agg(F.avg('average_combo_purchase_time').alias(\"average_purchase_time\")).sort(F.asc(\"user\"))\n",
    "user_avg_purc_time_df.show()"
   ]
  },
  {
   "cell_type": "markdown",
   "id": "a1b3c21a",
   "metadata": {},
   "source": [
    "# Write to postgres"
   ]
  },
  {
   "cell_type": "code",
   "execution_count": null,
   "id": "4931adda",
   "metadata": {},
   "outputs": [],
   "source": [
    "user_avg_purc_time_df..write.format(\"jdbc\")\\\n",
    "    .option(\"url\", \"jdbc:postgresql://localhost:5432/sample_db\") \\\n",
    "    .option(\"driver\", \"org.postgresql.Driver\").option(\"dbtable\", \"average_usage\") \\\n",
    "    .option(\"user\", \"<user>\").option(\"password\", \"<password>\").save()"
   ]
  }
 ],
 "metadata": {
  "kernelspec": {
   "display_name": "Python 3 (ipykernel)",
   "language": "python",
   "name": "python3"
  },
  "language_info": {
   "codemirror_mode": {
    "name": "ipython",
    "version": 3
   },
   "file_extension": ".py",
   "mimetype": "text/x-python",
   "name": "python",
   "nbconvert_exporter": "python",
   "pygments_lexer": "ipython3",
   "version": "3.9.2"
  }
 },
 "nbformat": 4,
 "nbformat_minor": 5
}
